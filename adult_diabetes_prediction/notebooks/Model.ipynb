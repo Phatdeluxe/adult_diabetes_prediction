{
 "cells": [
  {
   "cell_type": "code",
   "execution_count": 69,
   "metadata": {},
   "outputs": [
    {
     "name": "stderr",
     "output_type": "stream",
     "text": [
      "C:\\Users\\PhatDeluxe\\Anaconda3\\envs\\Unit 2\\lib\\site-packages\\xgboost\\core.py:587: FutureWarning: Series.base is deprecated and will be removed in a future version\n",
      "  if getattr(data, 'base', None) is not None and \\\n",
      "C:\\Users\\PhatDeluxe\\Anaconda3\\envs\\Unit 2\\lib\\site-packages\\xgboost\\core.py:588: FutureWarning: Series.base is deprecated and will be removed in a future version\n",
      "  data.base is not None and isinstance(data, np.ndarray) \\\n"
     ]
    },
    {
     "name": "stdout",
     "output_type": "stream",
     "text": [
      "[15:35:31] WARNING: src/objective/regression_obj.cu:152: reg:linear is now deprecated in favor of reg:squarederror.\n"
     ]
    },
    {
     "data": {
      "text/plain": [
       "Pipeline(memory=None,\n",
       "         steps=[('ordinalencoder',\n",
       "                 OrdinalEncoder(cols=['State', 'County'], drop_invariant=False,\n",
       "                                handle_missing='value', handle_unknown='value',\n",
       "                                mapping=[{'col': 'State',\n",
       "                                          'data_type': dtype('O'),\n",
       "                                          'mapping': PA      1\n",
       "TN      2\n",
       "OR      3\n",
       "NE      4\n",
       "UT      5\n",
       "WV      6\n",
       "TX      7\n",
       "IN      8\n",
       "CO      9\n",
       "MT     10\n",
       "MS     11\n",
       "SD     12\n",
       "GA     13\n",
       "NJ     14\n",
       "MO     15\n",
       "IA     16\n",
       "CA     17\n",
       "AL     18\n",
       "HI     19\n",
       "VA     20\n",
       "OK     21\n",
       "WI     22\n",
       "SC     23\n",
       "ME     24\n",
       "NV     25\n",
       "IL     26\n",
       "OH     27\n",
       "KY     28\n",
       "MI     29\n",
       "ID     30\n",
       "NC     31\n",
       "AR     32\n",
       "NY     33\n",
       "MN     34\n",
       "LA     35\n",
       "FL     36\n",
       "MA     37\n",
       "MD...\n",
       "                              colsample_bylevel=1, colsample_bynode=1,\n",
       "                              colsample_bytree=1, gamma=0,\n",
       "                              importance_type='gain', learning_rate=0.12103,\n",
       "                              max_delta_step=0, max_depth=5, min_child_weight=1,\n",
       "                              missing=None, n_estimators=358, n_jobs=1,\n",
       "                              nthread=None, objective='reg:linear',\n",
       "                              random_state=0, reg_alpha=0.73132, reg_lambda=1,\n",
       "                              scale_pos_weight=1, seed=None, silent=None,\n",
       "                              subsample=1, verbosity=1))],\n",
       "         verbose=False)"
      ]
     },
     "execution_count": 69,
     "metadata": {},
     "output_type": "execute_result"
    }
   ],
   "source": [
    "import pandas as pd\n",
    "from sklearn.pipeline import make_pipeline\n",
    "from xgboost import XGBRegressor\n",
    "from sklearn.impute import SimpleImputer\n",
    "from sklearn.preprocessing import StandardScaler\n",
    "import numpy as np\n",
    "from sklearn.model_selection import train_test_split\n",
    "import category_encoders as ce\n",
    "\n",
    "df = pd.read_csv('https://raw.githubusercontent.com/Phatdeluxe/Portfolio-Projects/master/Predictive_model/df.txt')\n",
    "df = df.drop(index=2916)\n",
    "\n",
    "features = ['State', 'County', 'PCT_OBESE_ADULTS13', 'PCT_65OLDER10', 'VLFOODSEC_10_12', 'PCT_CACFP09']\n",
    "target = 'PCT_DIABETES_ADULTS13'\n",
    "\n",
    "def clean(data):\n",
    "    data = data.copy()\n",
    "\n",
    "    for item in features:\n",
    "        data = data.replace(np.inf, np.nan)\n",
    "        \n",
    "    return data\n",
    "\n",
    "df = clean(df)\n",
    "\n",
    "my_train, my_test = train_test_split(df, test_size=0.2, random_state=42) \n",
    "my_train, my_val = train_test_split(my_train, test_size=0.2, random_state=42)\n",
    "\n",
    "y_train = my_train[target]\n",
    "X_train = my_train[features]\n",
    "\n",
    "xgb_pipeline = make_pipeline(\n",
    "    ce.OrdinalEncoder(),\n",
    "    SimpleImputer(strategy='mean'),\n",
    "    StandardScaler(),\n",
    "    XGBRegressor(learning_rate=0.12103,\n",
    "                max_depth=5,\n",
    "                n_estimators=358,\n",
    "                reg_alpha=0.73132)\n",
    ")\n",
    "\n",
    "xgb_pipeline.fit(X_train, y_train)"
   ]
  },
  {
   "cell_type": "code",
   "execution_count": 70,
   "metadata": {},
   "outputs": [
    {
     "data": {
      "text/plain": [
       "['pipeline.joblib']"
      ]
     },
     "execution_count": 70,
     "metadata": {},
     "output_type": "execute_result"
    }
   ],
   "source": [
    "from joblib import dump\n",
    "dump(xgb_pipeline, 'pipeline.joblib', compress=True)"
   ]
  },
  {
   "cell_type": "code",
   "execution_count": 65,
   "metadata": {},
   "outputs": [
    {
     "name": "stdout",
     "output_type": "stream",
     "text": [
      "category_encoders==2.0.0\n",
      "joblib==0.13.2\n",
      "scikit-learn==0.21.3\n",
      "xgboost==0.90\n",
      "pandas==0.23.4\n",
      "numpy==1.16.5\n"
     ]
    }
   ],
   "source": [
    "import joblib\n",
    "import sklearn\n",
    "import xgboost\n",
    "import pandas\n",
    "import numpy\n",
    "import category_encoders as ce\n",
    "print(f'category_encoders=={ce.__version__}')\n",
    "print(f'joblib=={joblib.__version__}')\n",
    "print(f'scikit-learn=={sklearn.__version__}')\n",
    "print(f'xgboost=={xgboost.__version__}')\n",
    "print(f'pandas=={pandas.__version__}')\n",
    "print(f'numpy=={numpy.__version__}')\n"
   ]
  },
  {
   "cell_type": "code",
   "execution_count": null,
   "metadata": {},
   "outputs": [],
   "source": [
    "pipenv install joblib==0.13.2 scikit-learn==0.21.3 xgboost==0.90 pandas==0.23.4 numpy==1.16.5 category_encoders==2.0.0"
   ]
  },
  {
   "cell_type": "code",
   "execution_count": 68,
   "metadata": {},
   "outputs": [
    {
     "data": {
      "text/html": [
       "<div>\n",
       "<style scoped>\n",
       "    .dataframe tbody tr th:only-of-type {\n",
       "        vertical-align: middle;\n",
       "    }\n",
       "\n",
       "    .dataframe tbody tr th {\n",
       "        vertical-align: top;\n",
       "    }\n",
       "\n",
       "    .dataframe thead th {\n",
       "        text-align: right;\n",
       "    }\n",
       "</style>\n",
       "<table border=\"1\" class=\"dataframe\">\n",
       "  <thead>\n",
       "    <tr style=\"text-align: right;\">\n",
       "      <th></th>\n",
       "      <th>PCT_DIABETES_ADULTS08</th>\n",
       "      <th>PCT_OBESE_ADULTS13</th>\n",
       "      <th>PCT_65OLDER10</th>\n",
       "      <th>VLFOODSEC_10_12</th>\n",
       "      <th>PCT_CACFP09</th>\n",
       "    </tr>\n",
       "  </thead>\n",
       "  <tbody>\n",
       "    <tr>\n",
       "      <th>count</th>\n",
       "      <td>3137.000000</td>\n",
       "      <td>3142.000000</td>\n",
       "      <td>3142.000000</td>\n",
       "      <td>3142.000000</td>\n",
       "      <td>3142.000000</td>\n",
       "    </tr>\n",
       "    <tr>\n",
       "      <th>mean</th>\n",
       "      <td>9.912400</td>\n",
       "      <td>31.017091</td>\n",
       "      <td>15.880756</td>\n",
       "      <td>5.800064</td>\n",
       "      <td>1.222627</td>\n",
       "    </tr>\n",
       "    <tr>\n",
       "      <th>std</th>\n",
       "      <td>2.058691</td>\n",
       "      <td>4.523205</td>\n",
       "      <td>4.189682</td>\n",
       "      <td>0.862786</td>\n",
       "      <td>0.396807</td>\n",
       "    </tr>\n",
       "    <tr>\n",
       "      <th>min</th>\n",
       "      <td>3.000000</td>\n",
       "      <td>11.800000</td>\n",
       "      <td>3.470599</td>\n",
       "      <td>3.200000</td>\n",
       "      <td>0.387918</td>\n",
       "    </tr>\n",
       "    <tr>\n",
       "      <th>25%</th>\n",
       "      <td>8.500000</td>\n",
       "      <td>28.300000</td>\n",
       "      <td>13.122340</td>\n",
       "      <td>5.100000</td>\n",
       "      <td>0.954012</td>\n",
       "    </tr>\n",
       "    <tr>\n",
       "      <th>50%</th>\n",
       "      <td>9.800000</td>\n",
       "      <td>31.200000</td>\n",
       "      <td>15.568410</td>\n",
       "      <td>5.700000</td>\n",
       "      <td>1.224745</td>\n",
       "    </tr>\n",
       "    <tr>\n",
       "      <th>75%</th>\n",
       "      <td>11.300000</td>\n",
       "      <td>33.800000</td>\n",
       "      <td>18.202818</td>\n",
       "      <td>6.500000</td>\n",
       "      <td>1.424865</td>\n",
       "    </tr>\n",
       "    <tr>\n",
       "      <th>max</th>\n",
       "      <td>18.200000</td>\n",
       "      <td>47.600000</td>\n",
       "      <td>43.384714</td>\n",
       "      <td>8.100000</td>\n",
       "      <td>2.552547</td>\n",
       "    </tr>\n",
       "  </tbody>\n",
       "</table>\n",
       "</div>"
      ],
      "text/plain": [
       "       PCT_DIABETES_ADULTS08  PCT_OBESE_ADULTS13  PCT_65OLDER10  \\\n",
       "count            3137.000000         3142.000000    3142.000000   \n",
       "mean                9.912400           31.017091      15.880756   \n",
       "std                 2.058691            4.523205       4.189682   \n",
       "min                 3.000000           11.800000       3.470599   \n",
       "25%                 8.500000           28.300000      13.122340   \n",
       "50%                 9.800000           31.200000      15.568410   \n",
       "75%                11.300000           33.800000      18.202818   \n",
       "max                18.200000           47.600000      43.384714   \n",
       "\n",
       "       VLFOODSEC_10_12  PCT_CACFP09  \n",
       "count      3142.000000  3142.000000  \n",
       "mean          5.800064     1.222627  \n",
       "std           0.862786     0.396807  \n",
       "min           3.200000     0.387918  \n",
       "25%           5.100000     0.954012  \n",
       "50%           5.700000     1.224745  \n",
       "75%           6.500000     1.424865  \n",
       "max           8.100000     2.552547  "
      ]
     },
     "execution_count": 68,
     "metadata": {},
     "output_type": "execute_result"
    }
   ],
   "source": [
    "df[features].describe()"
   ]
  },
  {
   "cell_type": "code",
   "execution_count": null,
   "metadata": {},
   "outputs": [],
   "source": []
  }
 ],
 "metadata": {
  "kernelspec": {
   "display_name": "Python 3",
   "language": "python",
   "name": "python3"
  },
  "language_info": {
   "codemirror_mode": {
    "name": "ipython",
    "version": 3
   },
   "file_extension": ".py",
   "mimetype": "text/x-python",
   "name": "python",
   "nbconvert_exporter": "python",
   "pygments_lexer": "ipython3",
   "version": "3.7.4"
  }
 },
 "nbformat": 4,
 "nbformat_minor": 4
}

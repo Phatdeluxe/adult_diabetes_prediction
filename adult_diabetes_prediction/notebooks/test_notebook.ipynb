{
 "cells": [
  {
   "cell_type": "code",
   "execution_count": null,
   "metadata": {},
   "outputs": [],
   "source": [
    "import pandas as pd\n",
    "\n",
    "df1 = pd.read_csv('Desktop/Lambda work/Unit 2 project/DataDownload/DataDownload - ACCESS.csv')\n",
    "df2 = pd.read_csv('Desktop/Lambda work/Unit 2 project/DataDownload/DataDownload - ASSISTANCE.csv')\n",
    "df3 = pd.read_csv('Desktop/Lambda work/Unit 2 project/DataDownload/DataDownload - HEALTH.csv')\n",
    "df4 = pd.read_csv('Desktop/Lambda work/Unit 2 project/DataDownload/DataDownload - INSECURITY.csv')\n",
    "df5 = pd.read_csv('Desktop/Lambda work/Unit 2 project/DataDownload/DataDownload - LOCAL.csv')\n",
    "df6 = pd.read_csv('Desktop/Lambda work/Unit 2 project/DataDownload/DataDownload - PRICES_TAXES.csv')\n",
    "df8 = pd.read_csv('Desktop/Lambda work/Unit 2 project/DataDownload/DataDownload - RESTAURANTS.csv')\n",
    "df9 = pd.read_csv('Desktop/Lambda work/Unit 2 project/DataDownload/DataDownload - SOCIOECONOMIC.csv')\n",
    "df10 = pd.read_csv('Desktop/Lambda work/Unit 2 project/DataDownload/DataDownload - STORES.csv')"
   ]
  },
  {
   "cell_type": "code",
   "execution_count": null,
   "metadata": {},
   "outputs": [],
   "source": [
    "df_list = [df2, df3, df4, df5, df6, df8, df9, df10]\n",
    "df = df1"
   ]
  },
  {
   "cell_type": "code",
   "execution_count": null,
   "metadata": {},
   "outputs": [],
   "source": [
    "for item in df_list:\n",
    "    df = df.merge(item, how='outer', on=['FIPS', 'State', 'County'])\n",
    "\n",
    "df = df.drop(index=2916)"
   ]
  },
  {
   "cell_type": "code",
   "execution_count": null,
   "metadata": {},
   "outputs": [],
   "source": [
    "import numpy as np\n",
    "def clean(data):\n",
    "    data = data.copy()\n",
    "\n",
    "    for item in features:\n",
    "        data = data.replace(np.inf, np.nan)\n",
    "        \n",
    "    return data\n",
    "\n",
    "df = clean(df)"
   ]
  },
  {
   "cell_type": "code",
   "execution_count": null,
   "metadata": {},
   "outputs": [],
   "source": [
    "from sklearn.model_selection import train_test_split\n",
    "my_train, my_test = train_test_split(df, test_size=0.2, random_state=42) \n",
    "my_train, my_val = train_test_split(my_train, test_size=0.2, random_state=42)"
   ]
  },
  {
   "cell_type": "code",
   "execution_count": null,
   "metadata": {},
   "outputs": [],
   "source": [
    "features = ['LACCESS_POP10', 'PCT_LACCESS_POP10', 'LACCESS_LOWI10',\n",
    "            'LACCESS_HHNV10', 'PCT_LACCESS_HHNV10', 'LACCESS_CHILD10',\n",
    "            'PCT_LACCESS_CHILD10', 'LACCESS_SENIORS10', 'PCT_LACCESS_SENIORS10',\n",
    "            'GROCPTH09', 'SUPERCPTH09', 'CONVS09', 'SPECS09', 'SPECSPTH09',\n",
    "            'SNAPSPTH12', 'WICS08', 'WICSPTH08', 'WICSPTH12', 'PCH_WICSPTH_08_12',\n",
    "            'FFR09', 'FFRPTH09', 'FSR09', 'PC_FFRSALES07', 'PC_FFRSALES12',\n",
    "            'PC_FSRSALES07', 'PC_FSRSALES12', 'REDEMP_SNAPS12', 'PCT_SNAP12',\n",
    "            'PC_SNAPBEN10', 'SNAP_PART_RATE08', 'SNAP_PART_RATE13',\n",
    "            'SNAP_REPORTSIMPLE09', 'PCT_NSLP09', 'PCT_FREE_LUNCH09',\n",
    "            'PC_WIC_REDEMP08', 'PC_WIC_REDEMP12', 'REDEMP_WICS08', 'REDEMP_WICS12',\n",
    "            'PCH_REDEMP_WICS_08_12', 'PCT_WIC09', 'PCT_CACFP09', 'VLFOODSEC_10_12',\n",
    "            'FOODINSEC_CHILD_01_07', 'FOODINSEC_CHILD_03_11', 'MILK_PRICE10',\n",
    "            'SODA_PRICE10', 'MILK_SODA_PRICE10', 'PCH_DIRSALES_FARMS_07_12',\n",
    "            'PCT_LOCLFARM12', 'DIRSALES07', 'DIRSALES12', 'PCH_DIRSALES_07_12',\n",
    "            'PC_DIRSALES12', 'PCH_PC_DIRSALES_07_12', 'VEG_FARMS12',\n",
    "            'PCH_VEG_ACRES_07_12', 'VEG_ACRESPTH07', 'FRESHVEG_ACRESPTH07',\n",
    "            'PCH_FRESHVEG_ACRESPTH_07_12', 'ORCHARD_FARMS12',\n",
    "            'PCH_ORCHARD_FARMS_07_12', 'ORCHARD_ACRES07', 'ORCHARD_ACRES12',\n",
    "            'PCH_ORCHARD_ACRES_07_12', 'ORCHARD_ACRESPTH12', 'BERRY_FARMS12',\n",
    "            'BERRY_ACRES07', 'BERRY_ACRES12', 'PCH_BERRY_ACRES_07_12',\n",
    "            'BERRY_ACRESPTH07', 'BERRY_ACRESPTH12', 'PCH_SLHOUSE_07_12',\n",
    "            'PCH_GHVEG_SQFT_07_12', 'CSA07', 'CSA12', 'AGRITRSM_OPS07',\n",
    "            'PCH_AGRITRSM_OPS_07_12', 'AGRITRSM_RCT07', 'AGRITRSM_RCT12',\n",
    "            'PCT_DIABETES_ADULTS08', 'PCT_OBESE_ADULTS08', 'PCT_OBESE_ADULTS13',\n",
    "            'RECFAC09', 'RECFACPTH09', 'PCT_NHWHITE10', 'PCT_NHBLACK10',\n",
    "            'PCT_NHPI10', 'PCT_65OLDER10', 'PCT_18YOUNGER10']"
   ]
  },
  {
   "cell_type": "code",
   "execution_count": null,
   "metadata": {},
   "outputs": [],
   "source": [
    "y_train = my_train[target]\n",
    "X_train = my_train[features]\n",
    "y_val = my_val[target]\n",
    "X_val = my_val[features]\n",
    "y_test = my_test[target]\n",
    "X_test = my_test[features]"
   ]
  },
  {
   "cell_type": "code",
   "execution_count": null,
   "metadata": {},
   "outputs": [],
   "source": [
    "xgb_pipeline = make_pipeline(\n",
    "    SimpleImputer(strategy='mean'),\n",
    "    StandardScaler(),\n",
    "    XGBRegressor(learning_rate=0.12103,\n",
    "                max_depth=5,\n",
    "                n_estimators=358,\n",
    "                reg_alpha=0.73132)\n",
    ")\n",
    "\n",
    "xgb_pipeline.fit(X_train, y_train)"
   ]
  },
  {
   "cell_type": "code",
   "execution_count": null,
   "metadata": {},
   "outputs": [],
   "source": []
  }
 ],
 "metadata": {
  "kernelspec": {
   "display_name": "Python 3",
   "language": "python",
   "name": "python3"
  }
 },
 "nbformat": 4,
 "nbformat_minor": 2
}
